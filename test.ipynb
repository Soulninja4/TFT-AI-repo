{
 "cells": [
  {
   "cell_type": "code",
   "execution_count": 28,
   "metadata": {},
   "outputs": [
    {
     "name": "stdout",
     "output_type": "stream",
     "text": [
      "1366 768\n",
      "763 1306 10 4\n"
     ]
    }
   ],
   "source": [
    "from win32gui import FindWindow, GetWindowRect\n",
    "import ctypes\n",
    "\n",
    "def getscreensize(): #gets pixel width and height of current monitor\n",
    "    user32 = ctypes.windll.user32\n",
    "    h = user32.GetSystemMetrics(0)\n",
    "    w = user32.GetSystemMetrics(1)\n",
    "    return h, w\n",
    "\n",
    "            \n",
    "def getappsap(): #gets top-left pixel of League of Legends, as well as window height and width\n",
    "    window_handle = FindWindow(None, \"League of Legends (TM) Client\")\n",
    "    rect = GetWindowRect(window_handle)\n",
    "\n",
    "    x = rect[0]\n",
    "    y = rect[1] \n",
    "    w = rect[2] \n",
    "    h = rect[3] \n",
    "\n",
    "    return h, w, x, y\n",
    "\n",
    "h, w = getscreensize()\n",
    "print(h, w)\n",
    "\n",
    "h, w, x, y = getappsap()\n",
    "print(h, w, x, y)"
   ]
  }
 ],
 "metadata": {
  "interpreter": {
   "hash": "4a6b16149f6b2edf9b1ec6b524f35f501f477d577a4b21fbab6ac8f44532a67e"
  },
  "kernelspec": {
   "display_name": "Python 3.10.4 64-bit",
   "language": "python",
   "name": "python3"
  },
  "language_info": {
   "codemirror_mode": {
    "name": "ipython",
    "version": 3
   },
   "file_extension": ".py",
   "mimetype": "text/x-python",
   "name": "python",
   "nbconvert_exporter": "python",
   "pygments_lexer": "ipython3",
   "version": "3.10.4"
  },
  "orig_nbformat": 4
 },
 "nbformat": 4,
 "nbformat_minor": 2
}
