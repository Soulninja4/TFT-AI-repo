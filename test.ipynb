{
 "cells": [
  {
   "cell_type": "code",
   "execution_count": 28,
   "metadata": {},
   "outputs": [
    {
     "name": "stdout",
     "output_type": "stream",
     "text": [
      "1366 768\n",
      "763 1306 10 4\n"
     ]
    }
   ],
   "source": [
    "from win32gui import FindWindow, GetWindowRect\n",
    "import ctypes\n",
    "\n",
    "def getscreensize(): #gets pixel width and height of current monitor\n",
    "    user32 = ctypes.windll.user32\n",
    "    h = user32.GetSystemMetrics(0)\n",
    "    w = user32.GetSystemMetrics(1)\n",
    "    return h, w\n",
    "\n",
    "            \n",
    "def getappsap(): #gets top-left pixel of League of Legends, as well as window height and width\n",
    "    window_handle = FindWindow(None, \"League of Legends (TM) Client\")\n",
    "    rect = GetWindowRect(window_handle)\n",
    "\n",
    "    x = rect[0]\n",
    "    y = rect[1] \n",
    "    w = rect[2] \n",
    "    h = rect[3] \n",
    "\n",
    "    return h, w, x, y\n",
    "\n",
    "h, w = getscreensize()\n",
    "print(h, w)\n",
    "\n",
    "h, w, x, y = getappsap()\n",
    "print(h, w, x, y)"
   ]
  },
  {
   "cell_type": "code",
   "execution_count": 4,
   "metadata": {},
   "outputs": [],
   "source": [
    "import win32api, win32con\n",
    "\n",
    "def mousePos(x1, y1, cord): #relative to top left of game window where x1, y1 = top left; cord = coordinates we want to move the mouse to\n",
    "    pos = (x1 + cord[0], y1 + cord[1])\n",
    "    win32api.SetCursorPos(pos)\n",
    "\n",
    "cord = (600,600)\n",
    "mousePos(0,0,cord)"
   ]
  },
  {
   "cell_type": "code",
   "execution_count": 10,
   "metadata": {},
   "outputs": [
    {
     "name": "stdout",
     "output_type": "stream",
     "text": [
      "Click.\n"
     ]
    }
   ],
   "source": [
    "import win32api, win32con\n",
    "import os\n",
    "import time\n",
    "\n",
    "def leftClick():\n",
    "    win32api.mouse_event(win32con.MOUSEEVENTF_LEFTDOWN,0,0)\n",
    "    time.sleep(.1)\n",
    "    win32api.mouse_event(win32con.MOUSEEVENTF_LEFTUP,0,0)\n",
    "    print(\"Click.\")         #completely optional. But nice for debugging purposes.\n",
    "\n",
    "def leftDown():\n",
    "    win32api.mouse_event(win32con.MOUSEEVENTF_LEFTDOWN,0,0)\n",
    "    time.sleep(.1)\n",
    "    print('left Down')\n",
    "         \n",
    "def leftUp():\n",
    "    win32api.mouse_event(win32con.MOUSEEVENTF_LEFTUP,0,0)\n",
    "    time.sleep(.1)\n",
    "    print('left release')\n",
    "\n",
    "def rightClick():\n",
    "    win32api.mouse_event(win32con.MOUSEEVENTF_RIGHTDOWN,0,0)\n",
    "    time.sleep(.1)\n",
    "    win32api.mouse_event(win32con.MOUSEEVENTF_RIGHTUP,0,0)\n",
    "    print(\"Click.\")         #completely optional. But nice for debugging purposes.\n",
    "\n",
    "def rightDown():\n",
    "    win32api.mouse_event(win32con.MOUSEEVENTF_RIGHTDOWN,0,0)\n",
    "    time.sleep(.1)\n",
    "    print('left Down')\n",
    "         \n",
    "def rightUp():\n",
    "    win32api.mouse_event(win32con.MOUSEEVENTF_RIGHTUP,0,0)\n",
    "    time.sleep(.1)\n",
    "    print('left release')\n",
    "\n",
    "def mousePos(x1, y1, cord): #relative to top left of game window where x1, y1 = top left; cord = coordinates we want to move the mouse to\n",
    "    pos = (x1 + cord[0], y1 + cord[1])\n",
    "    win32api.SetCursorPos(pos)\n",
    "     \n",
    "def get_cords(x1,y1):\n",
    "    x,y = win32api.GetCursorPos()\n",
    "    x = x - x1\n",
    "    y = y - y1\n",
    "    print(x,y)\n",
    "\n",
    "cord = (600,600)\n",
    "mousePos(0,0,cord)\n",
    "rightClick()\n"
   ]
  }
 ],
 "metadata": {
  "interpreter": {
   "hash": "4a6b16149f6b2edf9b1ec6b524f35f501f477d577a4b21fbab6ac8f44532a67e"
  },
  "kernelspec": {
   "display_name": "Python 3.10.4 64-bit",
   "language": "python",
   "name": "python3"
  },
  "language_info": {
   "codemirror_mode": {
    "name": "ipython",
    "version": 3
   },
   "file_extension": ".py",
   "mimetype": "text/x-python",
   "name": "python",
   "nbconvert_exporter": "python",
   "pygments_lexer": "ipython3",
   "version": "3.9.6"
  },
  "orig_nbformat": 4
 },
 "nbformat": 4,
 "nbformat_minor": 2
}
